{
 "cells": [
  {
   "cell_type": "markdown",
   "id": "diagnostic-nightmare",
   "metadata": {},
   "source": [
    "# DETAILED LONGITUDINAL TEST NOTEBOOK \n",
    "\n",
    "```\n",
    "LAST UPDATE: 17-01-2024\n",
    "SCRIPTs: /data/projects/service_sector_update/multiprocessing/..\n",
    "```\n",
    "\n",
    "This notebnook contains the code to be run in order to check if the output split files are correct <br>\n",
    "NB: some of the splits are very big, take care of RAM usage"
   ]
  },
  {
   "cell_type": "code",
   "execution_count": 2,
   "id": "lonely-mattress",
   "metadata": {},
   "outputs": [],
   "source": [
    "import pandas as pd\n",
    "import numpy as np\n",
    "import matplotlib.pyplot as plt\n",
    "import gc "
   ]
  },
  {
   "cell_type": "code",
   "execution_count": 3,
   "id": "covered-favor",
   "metadata": {},
   "outputs": [],
   "source": [
    "DL_SPLITS_PATH = '/data/processed_data/detailed_longitudinal/R10/service_sector/splits/' "
   ]
  },
  {
   "cell_type": "code",
   "execution_count": 4,
   "id": "favorite-polyester",
   "metadata": {},
   "outputs": [],
   "source": [
    "OUTPUT_COLUMNS = {\n",
    "    \"FINREGISTRYID\":str,\n",
    "    \"SOURCE\":str,\n",
    "    \"EVENT_AGE\":float,\n",
    "    \"EVENT_DAY\":str,\n",
    "    \"CODE1\":str,\n",
    "    \"CODE2\":str, \n",
    "    \"CODE3\":str, \n",
    "    \"CODE4\":str, \n",
    "    \"CODE5\":str,\n",
    "    \"CODE6\":str, \n",
    "    \"CODE7\":str,\n",
    "    \"CODE8\":str,\n",
    "    \"CODE9\":str,\n",
    "    \"ICDVER\":str,\n",
    "    \"CATEGORY\":str,\n",
    "    \"INDEX\":int}"
   ]
  },
  {
   "cell_type": "markdown",
   "id": "nuclear-spyware",
   "metadata": {},
   "source": [
    "# TEST FUNCTIONS"
   ]
  },
  {
   "cell_type": "code",
   "execution_count": 5,
   "id": "lovely-internship",
   "metadata": {},
   "outputs": [],
   "source": [
    "def check_inpat_freq(df):\n",
    "    df.EVENT_DAY =  pd.to_datetime(df.EVENT_DAY, format='%Y-%m-%d')\n",
    "    df['YEAR'] = df.EVENT_DAY.dt.year\n",
    "    source_counts_by_year = df.groupby(['YEAR', 'SOURCE']).size().unstack(fill_value=0)\n",
    "    source_counts_by_year.plot(kind='bar', stacked=True)\n",
    "    plt.xlabel('YEAR')\n",
    "    plt.ylabel('Frequency')\n",
    "    plt.legend(title='SOURCE', bbox_to_anchor=(1, 1), loc='upper left')\n",
    "    plt.show()"
   ]
  },
  {
   "cell_type": "code",
   "execution_count": 6,
   "id": "distributed-irish",
   "metadata": {},
   "outputs": [],
   "source": [
    "def check_source(df):\n",
    "    out = df.SOURCE.unique()\n",
    "    print(out)\n",
    "    # assert only if not hilmo or avohilmo\n",
    "    if not set(out).issubset({'INPAT', 'OUTPAT', 'OPER_IN', 'OPER_OUT', 'PRIM_OUT'}): \n",
    "        assert len(out)==1 ,\"more than one value, wrong!\"\n",
    "        print('only one source value, correct!')\n",
    "    else:\n",
    "        print('check source value')"
   ]
  },
  {
   "cell_type": "code",
   "execution_count": 7,
   "id": "prescription-maine",
   "metadata": {},
   "outputs": [],
   "source": [
    "def check_event_age(df):\n",
    "    m = df.EVENT_AGE.min()\n",
    "    print(m)\n",
    "    assert m>0 ,\"min value is wrong!\"\n",
    "    M = df.EVENT_AGE.max()\n",
    "    print(M)\n",
    "    assert M<=110 ,\"max value is wrong!\"\n",
    "    print('age range is correct!')\n",
    "    \n",
    "    # plot distribution\n",
    "    plt.hist(df.EVENT_AGE, bins=20)\n",
    "    plt.xlabel('AGE')\n",
    "    plt.ylabel('Frequency')\n",
    "    plt.show()"
   ]
  },
  {
   "cell_type": "code",
   "execution_count": 8,
   "id": "heated-sydney",
   "metadata": {},
   "outputs": [],
   "source": [
    "def check_event_day(df):\n",
    "    df.EVENT_DAY =  pd.to_datetime(df.EVENT_DAY, format='%Y-%m-%d')\n",
    "    year = df.EVENT_DAY.dt.year\n",
    "    m = year.min()\n",
    "    print(m)\n",
    "    if m<1953: print(\"min value is wrong!\")\n",
    "    M = year.max()\n",
    "    print(M)\n",
    "    if M>2021: print(\"max value is wrong!\")\n",
    "    print('this is the registry year range: '+str(m)+'-'+str(M))\n",
    "    \n",
    "    # plot distribution\n",
    "    plt.hist(year, bins=20)\n",
    "    plt.xlabel('EVENT YEAR')\n",
    "    plt.ylabel('Frequency')\n",
    "    plt.show()"
   ]
  },
  {
   "cell_type": "code",
   "execution_count": 9,
   "id": "large-bride",
   "metadata": {},
   "outputs": [],
   "source": [
    "def check_icdver(df):\n",
    "    out = df.ICDVER.unique()\n",
    "    print(out)\n",
    "    assert set(out).issubset({'8','9','10','O3'}) ,\"icd version has a wrong value!\"\n",
    "    print('icd version values are correct!')"
   ]
  },
  {
   "cell_type": "code",
   "execution_count": 10,
   "id": "prostate-implement",
   "metadata": {},
   "outputs": [],
   "source": [
    "def check_category(df):\n",
    "    out = df.CATEGORY.unique()\n",
    "    print('number of distict category values: '+str(len(out)))\n",
    "    if len(out)<=5: print(out)"
   ]
  },
  {
   "cell_type": "code",
   "execution_count": 11,
   "id": "stretch-replica",
   "metadata": {},
   "outputs": [],
   "source": [
    "def check_min_subjects(values, df, col, id_col):\n",
    "    res = np.array([], dtype=str)\n",
    "    values = np.array(values)\n",
    "    if col == id_col:\n",
    "        res = np.append(res, MIN_SUBJECTS_STR)\n",
    "    elif id_col:\n",
    "        for value in values[~pd.isnull(values)]:\n",
    "            n_subjects = len(set(df.loc[df[col] == value, id_col].values))\n",
    "            value = value if n_subjects >= MIN_SUBJECTS else MIN_SUBJECTS_STR\n",
    "            res = np.append(res, value)\n",
    "            if value == MIN_SUBJECTS_STR:\n",
    "                break\n",
    "    else:\n",
    "        res = values\n",
    "    res = \" \".join(res.astype(str))\n",
    "    return res"
   ]
  },
  {
   "cell_type": "code",
   "execution_count": 12,
   "id": "stuck-framing",
   "metadata": {},
   "outputs": [],
   "source": [
    "def run_baseline_tests(df):\n",
    "    check_source(df)\n",
    "    print('---')\n",
    "    check_event_age(df)\n",
    "    print('---')\n",
    "    check_event_day(df)\n",
    "    print('---')\n",
    "    check_icdver(df)\n",
    "    print('---')\n",
    "    check_category(df)\n",
    "    print('---')"
   ]
  },
  {
   "cell_type": "code",
   "execution_count": 13,
   "id": "compressed-prisoner",
   "metadata": {},
   "outputs": [],
   "source": [
    "# copying summary stat function from here:\n",
    "# https://github.com/dsgelab/finregistry-data/blob/main/finregistry_data/profiling.py\n",
    "\n",
    "MIN_SUBJECTS = 5\n",
    "MIN_SUBJECTS_STR = \"<not enough subjects>\"\n",
    "\n",
    "def run_summary_stats(df, id_col=None):\n",
    "    nrows, ncols = df.shape\n",
    "\n",
    "    d = {\n",
    "        \"col\": df.columns,\n",
    "        \"missing_pct\": [],\n",
    "        \"unique_values\": [],\n",
    "        \"min\": [],\n",
    "        \"max\": [],\n",
    "        \"top5\": [],\n",
    "    }\n",
    "\n",
    "    for col in df:\n",
    "\n",
    "        counts = df[col].value_counts()\n",
    "        missing_pct = round(df[col].isin(['nan',np.NaN]).sum(axis=0) / nrows * 100, 2)\n",
    "        unique_values = len(counts)\n",
    "        min_value = check_min_subjects([counts.index.min()], df, col, id_col)\n",
    "        max_value = check_min_subjects([counts.index.max()], df, col, id_col)\n",
    "        top5_values = check_min_subjects(counts[counts >= MIN_SUBJECTS].head(5).index, df, col, id_col)\n",
    "\n",
    "        d[\"missing_pct\"].append(missing_pct)\n",
    "        d[\"unique_values\"].append(unique_values)\n",
    "        d[\"min\"].append(min_value)\n",
    "        d[\"max\"].append(max_value)\n",
    "        d[\"top5\"].append(top5_values)\n",
    "\n",
    "    profiles = pd.DataFrame.from_dict(d)\n",
    "\n",
    "    print(f\"Number of rows: {nrows}\")\n",
    "    print(f\"Number of columns: {ncols}\")\n",
    "    print(\"Column profiles:\")\n",
    "    print(profiles)"
   ]
  },
  {
   "cell_type": "markdown",
   "id": "legendary-illustration",
   "metadata": {},
   "source": [
    "# HILMO"
   ]
  },
  {
   "cell_type": "code",
   "execution_count": null,
   "id": "hired-teens",
   "metadata": {},
   "outputs": [],
   "source": [
    "df = pd.read_csv(DL_SPLITS_PATH+'Hilmo_1969_1986.csv')\n",
    "df = df.astype(OUTPUT_COLUMNS) \n",
    "check_inpat_freq(df)\n",
    "run_baseline_tests(df)\n",
    "run_summary_stats(df)\n",
    "del df\n",
    "gc.collect()"
   ]
  },
  {
   "cell_type": "code",
   "execution_count": null,
   "id": "partial-narrative",
   "metadata": {},
   "outputs": [],
   "source": [
    "df = pd.read_csv(DL_SPLITS_PATH+'Hilmo_1987_1993.csv')\n",
    "df = df.astype(OUTPUT_COLUMNS) \n",
    "check_inpat_freq(df)\n",
    "run_baseline_tests(df)\n",
    "run_summary_stats(df)\n",
    "del df\n",
    "gc.collect()"
   ]
  },
  {
   "cell_type": "code",
   "execution_count": null,
   "id": "noted-metabolism",
   "metadata": {},
   "outputs": [],
   "source": [
    "df = pd.read_csv(DL_SPLITS_PATH+'Hilmo_1994_1995.csv')\n",
    "df = df.astype(OUTPUT_COLUMNS) \n",
    "check_inpat_freq(df)\n",
    "run_baseline_tests(df)\n",
    "run_summary_stats(df)\n",
    "del df\n",
    "gc.collect()"
   ]
  },
  {
   "cell_type": "code",
   "execution_count": null,
   "id": "exciting-constitutional",
   "metadata": {},
   "outputs": [],
   "source": [
    "# too big for memory load\n",
    "df = pd.read_csv(DL_SPLITS_PATH+'Hilmo_1996_2018.csv', nrows=10_000_000)\n",
    "df = df.astype(OUTPUT_COLUMNS) \n",
    "check_inpat_freq(df)\n",
    "run_baseline_tests(df)\n",
    "run_summary_stats(df)\n",
    "del df\n",
    "gc.collect()"
   ]
  },
  {
   "cell_type": "code",
   "execution_count": null,
   "id": "contained-shame",
   "metadata": {},
   "outputs": [],
   "source": [
    "df = pd.read_csv(DL_SPLITS_PATH+'Hilmo_2019_2021.csv')\n",
    "df = df.astype(OUTPUT_COLUMNS) \n",
    "check_inpat_freq(df)\n",
    "run_baseline_tests(df)\n",
    "run_summary_stats(df)\n",
    "del df\n",
    "gc.collect()"
   ]
  },
  {
   "cell_type": "markdown",
   "id": "arabic-textbook",
   "metadata": {},
   "source": [
    "# AVOHILMO"
   ]
  },
  {
   "cell_type": "code",
   "execution_count": null,
   "id": "medieval-specification",
   "metadata": {},
   "outputs": [],
   "source": [
    "df = pd.read_csv(DL_SPLITS_PATH+'Avohilmo_icd10_11_16.csv')\n",
    "df = df.astype(OUTPUT_COLUMNS) \n",
    "run_baseline_tests(df)\n",
    "run_summary_stats(df)\n",
    "del df\n",
    "gc.collect()"
   ]
  },
  {
   "cell_type": "code",
   "execution_count": null,
   "id": "conventional-murray",
   "metadata": {},
   "outputs": [],
   "source": [
    "df = pd.read_csv(DL_SPLITS_PATH+'Avohilmo_icd10_17_19.csv')\n",
    "df = df.astype(OUTPUT_COLUMNS) \n",
    "run_baseline_tests(df)\n",
    "run_summary_stats(df)\n",
    "del df\n",
    "gc.collect()"
   ]
  },
  {
   "cell_type": "code",
   "execution_count": null,
   "id": "efficient-wheel",
   "metadata": {},
   "outputs": [],
   "source": [
    "df = pd.read_csv(DL_SPLITS_PATH+'Avohilmo_icd10_20_21.csv')\n",
    "df = df.astype(OUTPUT_COLUMNS) \n",
    "run_baseline_tests(df)\n",
    "run_summary_stats(df)\n",
    "del df\n",
    "gc.collect()"
   ]
  },
  {
   "cell_type": "code",
   "execution_count": null,
   "id": "robust-metallic",
   "metadata": {},
   "outputs": [],
   "source": [
    "df = pd.read_csv(DL_SPLITS_PATH+'Avohilmo_icpc2_11_16.csv')\n",
    "df = df.astype(OUTPUT_COLUMNS) \n",
    "run_baseline_tests(df)\n",
    "run_summary_stats(df)\n",
    "del df\n",
    "gc.collect()"
   ]
  },
  {
   "cell_type": "code",
   "execution_count": null,
   "id": "right-yukon",
   "metadata": {},
   "outputs": [],
   "source": [
    "df = pd.read_csv(DL_SPLITS_PATH+'Avohilmo_icpc2_17_19.csv')\n",
    "df = df.astype(OUTPUT_COLUMNS) \n",
    "run_baseline_tests(df)\n",
    "run_summary_stats(df)\n",
    "del df\n",
    "gc.collect()"
   ]
  },
  {
   "cell_type": "code",
   "execution_count": null,
   "id": "noted-explosion",
   "metadata": {},
   "outputs": [],
   "source": [
    "df = pd.read_csv(DL_SPLITS_PATH+'Avohilmo_icpc2_20_21.csv')\n",
    "df = df.astype(OUTPUT_COLUMNS) \n",
    "run_baseline_tests(df)\n",
    "run_summary_stats(df)\n",
    "del df\n",
    "gc.collect()"
   ]
  },
  {
   "cell_type": "code",
   "execution_count": null,
   "id": "altered-broadcasting",
   "metadata": {},
   "outputs": [],
   "source": [
    "df = pd.read_csv(DL_SPLITS_PATH+'Avohilmo_oper_11_16.csv')\n",
    "df = df.astype(OUTPUT_COLUMNS) \n",
    "run_baseline_tests(df)\n",
    "run_summary_stats(df)\n",
    "del df\n",
    "gc.collect()"
   ]
  },
  {
   "cell_type": "code",
   "execution_count": null,
   "id": "brown-exercise",
   "metadata": {},
   "outputs": [],
   "source": [
    "df = pd.read_csv(DL_SPLITS_PATH+'Avohilmo_oper_17_19.csv')\n",
    "df = df.astype(OUTPUT_COLUMNS) \n",
    "run_baseline_tests(df)\n",
    "run_summary_stats(df)\n",
    "del df\n",
    "gc.collect()"
   ]
  },
  {
   "cell_type": "code",
   "execution_count": null,
   "id": "mexican-presentation",
   "metadata": {},
   "outputs": [],
   "source": [
    "df = pd.read_csv(DL_SPLITS_PATH+'Avohilmo_oper_20_21.csv')\n",
    "df = df.astype(OUTPUT_COLUMNS) \n",
    "run_baseline_tests(df)\n",
    "run_summary_stats(df)\n",
    "del df\n",
    "gc.collect()"
   ]
  },
  {
   "cell_type": "code",
   "execution_count": null,
   "id": "dental-halloween",
   "metadata": {},
   "outputs": [],
   "source": [
    "df = pd.read_csv(DL_SPLITS_PATH+'Avohilmo_oral_11_16.csv')\n",
    "df = df.astype(OUTPUT_COLUMNS) \n",
    "run_baseline_tests(df)\n",
    "run_summary_stats(df)\n",
    "del df\n",
    "gc.collect()"
   ]
  },
  {
   "cell_type": "code",
   "execution_count": null,
   "id": "universal-hughes",
   "metadata": {},
   "outputs": [],
   "source": [
    "df = pd.read_csv(DL_SPLITS_PATH+'Avohilmo_oral_17_19.csv')\n",
    "df = df.astype(OUTPUT_COLUMNS) \n",
    "run_baseline_tests(df)\n",
    "run_summary_stats(df)\n",
    "del df\n",
    "gc.collect()"
   ]
  },
  {
   "cell_type": "code",
   "execution_count": null,
   "id": "surface-accommodation",
   "metadata": {},
   "outputs": [],
   "source": [
    "df = pd.read_csv(DL_SPLITS_PATH+'Avohilmo_oral_20_21.csv')\n",
    "df = df.astype(OUTPUT_COLUMNS) \n",
    "run_baseline_tests(df)\n",
    "run_summary_stats(df)\n",
    "del df\n",
    "gc.collect()"
   ]
  },
  {
   "cell_type": "markdown",
   "id": "focused-emission",
   "metadata": {},
   "source": [
    "# CANCER"
   ]
  },
  {
   "cell_type": "code",
   "execution_count": null,
   "id": "appointed-bunny",
   "metadata": {},
   "outputs": [],
   "source": [
    "df = pd.read_csv(DL_SPLITS_PATH+'Cancer.csv')\n",
    "df = df.astype(OUTPUT_COLUMNS) \n",
    "run_baseline_tests(df)\n",
    "run_summary_stats(df)\n",
    "del df\n",
    "gc.collect()"
   ]
  },
  {
   "cell_type": "markdown",
   "id": "large-paradise",
   "metadata": {},
   "source": [
    "# DEATH"
   ]
  },
  {
   "cell_type": "code",
   "execution_count": null,
   "id": "editorial-channel",
   "metadata": {},
   "outputs": [],
   "source": [
    "df = pd.read_csv(DL_SPLITS_PATH+'Death.csv')\n",
    "df = df.astype(OUTPUT_COLUMNS) \n",
    "run_baseline_tests(df)\n",
    "run_summary_stats(df)\n",
    "del df\n",
    "gc.collect()"
   ]
  },
  {
   "cell_type": "markdown",
   "id": "young-actor",
   "metadata": {},
   "source": [
    "# KELA REIMBURSEMENT"
   ]
  },
  {
   "cell_type": "code",
   "execution_count": null,
   "id": "clear-garlic",
   "metadata": {},
   "outputs": [],
   "source": [
    "df = pd.read_csv(DL_SPLITS_PATH+'KelaReimbursement.csv')\n",
    "df = df.astype(OUTPUT_COLUMNS) \n",
    "run_baseline_tests(df)\n",
    "run_summary_stats(df)\n",
    "del df\n",
    "gc.collect()"
   ]
  },
  {
   "cell_type": "markdown",
   "id": "educated-thunder",
   "metadata": {},
   "source": [
    "# KELA PURCHASES"
   ]
  },
  {
   "cell_type": "code",
   "execution_count": null,
   "id": "loose-christian",
   "metadata": {},
   "outputs": [],
   "source": [
    "# too big for memory load\n",
    "df = pd.read_csv(DL_SPLITS_PATH+'KelaPurchase.csv', nrows=10_000_000)\n",
    "df = df.astype(OUTPUT_COLUMNS) \n",
    "run_baseline_tests(df)\n",
    "run_summary_stats(df)\n",
    "del df\n",
    "gc.collect()"
   ]
  }
 ],
 "metadata": {
  "kernelspec": {
   "display_name": "shared_conda_env",
   "language": "python",
   "name": "python3"
  },
  "language_info": {
   "codemirror_mode": {
    "name": "ipython",
    "version": 3
   },
   "file_extension": ".py",
   "mimetype": "text/x-python",
   "name": "python",
   "nbconvert_exporter": "python",
   "pygments_lexer": "ipython3",
   "version": "3.9.7"
  }
 },
 "nbformat": 4,
 "nbformat_minor": 5
}
